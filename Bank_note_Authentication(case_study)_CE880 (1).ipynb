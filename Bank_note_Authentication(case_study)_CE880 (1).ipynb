{
  "nbformat": 4,
  "nbformat_minor": 0,
  "metadata": {
    "colab": {
      "provenance": []
    },
    "kernelspec": {
      "name": "python3",
      "display_name": "Python 3"
    },
    "language_info": {
      "name": "python"
    }
  },
  "cells": [
    {
      "cell_type": "code",
      "execution_count": null,
      "metadata": {
        "id": "kwWMW2SgjmM1"
      },
      "outputs": [],
      "source": [
        "import pandas as pd\n",
        "import numpy as np\n",
        "import matplotlib.pylab as plt\n",
        "import seaborn as sns\n"
      ]
    },
    {
      "cell_type": "code",
      "source": [
        "import pandas as pd\n",
        "from pandas_profiling import ProfileReport\n",
        "from matplotlib import axes, pyplot\n",
        "from sklearn.model_selection import train_test_split\n",
        "from sklearn.model_selection import KFold\n",
        "from sklearn.model_selection import cross_val_score\n",
        "from sklearn.linear_model import LogisticRegression\n",
        "from sklearn.metrics import confusion_matrix\n",
        "from sklearn.metrics import accuracy_score\n",
        "from sklearn.metrics import classification_report\n",
        "from sklearn.tree import DecisionTreeClassifier\n",
        "from sklearn.neighbors import KNeighborsClassifier\n",
        "from sklearn.ensemble import RandomForestClassifier\n",
        "from sklearn.discriminant_analysis import LinearDiscriminantAnalysis\n",
        "from sklearn.naive_bayes import GaussianNB\n",
        "from sklearn.svm import SVC\n",
        "from sklearn.preprocessing import StandardScaler\n",
        "from numpy import set_printoptions\n",
        "from pickle import dump\n",
        "from pickle import load\n",
        "from sklearn.pipeline import Pipeline\n",
        "import matplotlib.pyplot as plt\n",
        "from IPython.display import Image\n"
      ],
      "metadata": {
        "id": "zZzncsJnTWTP"
      },
      "execution_count": null,
      "outputs": []
    },
    {
      "cell_type": "markdown",
      "source": [
        "**Import dataset using pandas read_csv function*"
      ],
      "metadata": {
        "id": "3GKRnGN38Tov"
      }
    },
    {
      "cell_type": "code",
      "source": [
        "df=pd.read_csv(r\"/content/data_banknote_authentication.txt\")"
      ],
      "metadata": {
        "id": "82dbgTb_kUpG"
      },
      "execution_count": null,
      "outputs": []
    },
    {
      "cell_type": "code",
      "source": [
        "df.shape"
      ],
      "metadata": {
        "colab": {
          "base_uri": "https://localhost:8080/"
        },
        "id": "J9f0E5KrkzAn",
        "outputId": "12edcbd7-f290-473a-83a0-83a1ffbaad6d"
      },
      "execution_count": null,
      "outputs": [
        {
          "output_type": "execute_result",
          "data": {
            "text/plain": [
              "(1371, 5)"
            ]
          },
          "metadata": {},
          "execution_count": 78
        }
      ]
    },
    {
      "cell_type": "markdown",
      "source": [
        "**Naming the coloums of dataset**"
      ],
      "metadata": {
        "id": "LhZdbFrn8jIi"
      }
    },
    {
      "cell_type": "code",
      "source": [
        "df.columns=['Variance','Skewness','Kurtosis','Entropy','Class']"
      ],
      "metadata": {
        "id": "wwepAgPolFys"
      },
      "execution_count": null,
      "outputs": []
    },
    {
      "cell_type": "code",
      "source": [
        "df.head()"
      ],
      "metadata": {
        "colab": {
          "base_uri": "https://localhost:8080/",
          "height": 206
        },
        "id": "4Bvqh1r4lcUQ",
        "outputId": "be6eb773-f3f9-49f9-eb99-d22a08ddc5b4"
      },
      "execution_count": null,
      "outputs": [
        {
          "output_type": "execute_result",
          "data": {
            "text/plain": [
              "   Variance  Skewness  Kurtosis  Entropy  Class\n",
              "0   4.54590    8.1674   -2.4586 -1.46210      0\n",
              "1   3.86600   -2.6383    1.9242  0.10645      0\n",
              "2   3.45660    9.5228   -4.0112 -3.59440      0\n",
              "3   0.32924   -4.4552    4.5718 -0.98880      0\n",
              "4   4.36840    9.6718   -3.9606 -3.16250      0"
            ],
            "text/html": [
              "\n",
              "  <div id=\"df-851a74c6-1a1d-41d6-9866-52aac57d6a69\">\n",
              "    <div class=\"colab-df-container\">\n",
              "      <div>\n",
              "<style scoped>\n",
              "    .dataframe tbody tr th:only-of-type {\n",
              "        vertical-align: middle;\n",
              "    }\n",
              "\n",
              "    .dataframe tbody tr th {\n",
              "        vertical-align: top;\n",
              "    }\n",
              "\n",
              "    .dataframe thead th {\n",
              "        text-align: right;\n",
              "    }\n",
              "</style>\n",
              "<table border=\"1\" class=\"dataframe\">\n",
              "  <thead>\n",
              "    <tr style=\"text-align: right;\">\n",
              "      <th></th>\n",
              "      <th>Variance</th>\n",
              "      <th>Skewness</th>\n",
              "      <th>Kurtosis</th>\n",
              "      <th>Entropy</th>\n",
              "      <th>Class</th>\n",
              "    </tr>\n",
              "  </thead>\n",
              "  <tbody>\n",
              "    <tr>\n",
              "      <th>0</th>\n",
              "      <td>4.54590</td>\n",
              "      <td>8.1674</td>\n",
              "      <td>-2.4586</td>\n",
              "      <td>-1.46210</td>\n",
              "      <td>0</td>\n",
              "    </tr>\n",
              "    <tr>\n",
              "      <th>1</th>\n",
              "      <td>3.86600</td>\n",
              "      <td>-2.6383</td>\n",
              "      <td>1.9242</td>\n",
              "      <td>0.10645</td>\n",
              "      <td>0</td>\n",
              "    </tr>\n",
              "    <tr>\n",
              "      <th>2</th>\n",
              "      <td>3.45660</td>\n",
              "      <td>9.5228</td>\n",
              "      <td>-4.0112</td>\n",
              "      <td>-3.59440</td>\n",
              "      <td>0</td>\n",
              "    </tr>\n",
              "    <tr>\n",
              "      <th>3</th>\n",
              "      <td>0.32924</td>\n",
              "      <td>-4.4552</td>\n",
              "      <td>4.5718</td>\n",
              "      <td>-0.98880</td>\n",
              "      <td>0</td>\n",
              "    </tr>\n",
              "    <tr>\n",
              "      <th>4</th>\n",
              "      <td>4.36840</td>\n",
              "      <td>9.6718</td>\n",
              "      <td>-3.9606</td>\n",
              "      <td>-3.16250</td>\n",
              "      <td>0</td>\n",
              "    </tr>\n",
              "  </tbody>\n",
              "</table>\n",
              "</div>\n",
              "      <button class=\"colab-df-convert\" onclick=\"convertToInteractive('df-851a74c6-1a1d-41d6-9866-52aac57d6a69')\"\n",
              "              title=\"Convert this dataframe to an interactive table.\"\n",
              "              style=\"display:none;\">\n",
              "        \n",
              "  <svg xmlns=\"http://www.w3.org/2000/svg\" height=\"24px\"viewBox=\"0 0 24 24\"\n",
              "       width=\"24px\">\n",
              "    <path d=\"M0 0h24v24H0V0z\" fill=\"none\"/>\n",
              "    <path d=\"M18.56 5.44l.94 2.06.94-2.06 2.06-.94-2.06-.94-.94-2.06-.94 2.06-2.06.94zm-11 1L8.5 8.5l.94-2.06 2.06-.94-2.06-.94L8.5 2.5l-.94 2.06-2.06.94zm10 10l.94 2.06.94-2.06 2.06-.94-2.06-.94-.94-2.06-.94 2.06-2.06.94z\"/><path d=\"M17.41 7.96l-1.37-1.37c-.4-.4-.92-.59-1.43-.59-.52 0-1.04.2-1.43.59L10.3 9.45l-7.72 7.72c-.78.78-.78 2.05 0 2.83L4 21.41c.39.39.9.59 1.41.59.51 0 1.02-.2 1.41-.59l7.78-7.78 2.81-2.81c.8-.78.8-2.07 0-2.86zM5.41 20L4 18.59l7.72-7.72 1.47 1.35L5.41 20z\"/>\n",
              "  </svg>\n",
              "      </button>\n",
              "      \n",
              "  <style>\n",
              "    .colab-df-container {\n",
              "      display:flex;\n",
              "      flex-wrap:wrap;\n",
              "      gap: 12px;\n",
              "    }\n",
              "\n",
              "    .colab-df-convert {\n",
              "      background-color: #E8F0FE;\n",
              "      border: none;\n",
              "      border-radius: 50%;\n",
              "      cursor: pointer;\n",
              "      display: none;\n",
              "      fill: #1967D2;\n",
              "      height: 32px;\n",
              "      padding: 0 0 0 0;\n",
              "      width: 32px;\n",
              "    }\n",
              "\n",
              "    .colab-df-convert:hover {\n",
              "      background-color: #E2EBFA;\n",
              "      box-shadow: 0px 1px 2px rgba(60, 64, 67, 0.3), 0px 1px 3px 1px rgba(60, 64, 67, 0.15);\n",
              "      fill: #174EA6;\n",
              "    }\n",
              "\n",
              "    [theme=dark] .colab-df-convert {\n",
              "      background-color: #3B4455;\n",
              "      fill: #D2E3FC;\n",
              "    }\n",
              "\n",
              "    [theme=dark] .colab-df-convert:hover {\n",
              "      background-color: #434B5C;\n",
              "      box-shadow: 0px 1px 3px 1px rgba(0, 0, 0, 0.15);\n",
              "      filter: drop-shadow(0px 1px 2px rgba(0, 0, 0, 0.3));\n",
              "      fill: #FFFFFF;\n",
              "    }\n",
              "  </style>\n",
              "\n",
              "      <script>\n",
              "        const buttonEl =\n",
              "          document.querySelector('#df-851a74c6-1a1d-41d6-9866-52aac57d6a69 button.colab-df-convert');\n",
              "        buttonEl.style.display =\n",
              "          google.colab.kernel.accessAllowed ? 'block' : 'none';\n",
              "\n",
              "        async function convertToInteractive(key) {\n",
              "          const element = document.querySelector('#df-851a74c6-1a1d-41d6-9866-52aac57d6a69');\n",
              "          const dataTable =\n",
              "            await google.colab.kernel.invokeFunction('convertToInteractive',\n",
              "                                                     [key], {});\n",
              "          if (!dataTable) return;\n",
              "\n",
              "          const docLinkHtml = 'Like what you see? Visit the ' +\n",
              "            '<a target=\"_blank\" href=https://colab.research.google.com/notebooks/data_table.ipynb>data table notebook</a>'\n",
              "            + ' to learn more about interactive tables.';\n",
              "          element.innerHTML = '';\n",
              "          dataTable['output_type'] = 'display_data';\n",
              "          await google.colab.output.renderOutput(dataTable, element);\n",
              "          const docLink = document.createElement('div');\n",
              "          docLink.innerHTML = docLinkHtml;\n",
              "          element.appendChild(docLink);\n",
              "        }\n",
              "      </script>\n",
              "    </div>\n",
              "  </div>\n",
              "  "
            ]
          },
          "metadata": {},
          "execution_count": 80
        }
      ]
    },
    {
      "cell_type": "markdown",
      "source": [
        "**checking the datatype**"
      ],
      "metadata": {
        "id": "OnW1_Sjo8sLM"
      }
    },
    {
      "cell_type": "code",
      "source": [
        "df.dtypes"
      ],
      "metadata": {
        "colab": {
          "base_uri": "https://localhost:8080/"
        },
        "id": "vBTLVK8QlkSL",
        "outputId": "dafe5e26-3556-4913-f26c-4046de217c85"
      },
      "execution_count": null,
      "outputs": [
        {
          "output_type": "execute_result",
          "data": {
            "text/plain": [
              "Variance    float64\n",
              "Skewness    float64\n",
              "Kurtosis    float64\n",
              "Entropy     float64\n",
              "Class         int64\n",
              "dtype: object"
            ]
          },
          "metadata": {},
          "execution_count": 81
        }
      ]
    },
    {
      "cell_type": "markdown",
      "source": [
        "**Summerizing the dataset*"
      ],
      "metadata": {
        "id": "5m13cbPE8x2U"
      }
    },
    {
      "cell_type": "code",
      "source": [
        "df.describe()"
      ],
      "metadata": {
        "colab": {
          "base_uri": "https://localhost:8080/",
          "height": 300
        },
        "id": "1tuL4ZrZlttS",
        "outputId": "cc1be43e-6e0a-4220-910c-e04945f6aa11"
      },
      "execution_count": null,
      "outputs": [
        {
          "output_type": "execute_result",
          "data": {
            "text/plain": [
              "          Variance     Skewness     Kurtosis      Entropy        Class\n",
              "count  1371.000000  1371.000000  1371.000000  1371.000000  1371.000000\n",
              "mean      0.431410     1.917434     1.400694    -1.192200     0.444931\n",
              "std       2.842494     5.868359     4.310105     2.101683     0.497139\n",
              "min      -7.042100   -13.773100    -5.286100    -8.548200     0.000000\n",
              "25%      -1.774700    -1.711300    -1.553350    -2.417000     0.000000\n",
              "50%       0.495710     2.313400     0.616630    -0.586650     0.000000\n",
              "75%       2.814650     6.813100     3.181600     0.394810     1.000000\n",
              "max       6.824800    12.951600    17.927400     2.449500     1.000000"
            ],
            "text/html": [
              "\n",
              "  <div id=\"df-1cd8f136-da78-4773-babe-96d05f123c94\">\n",
              "    <div class=\"colab-df-container\">\n",
              "      <div>\n",
              "<style scoped>\n",
              "    .dataframe tbody tr th:only-of-type {\n",
              "        vertical-align: middle;\n",
              "    }\n",
              "\n",
              "    .dataframe tbody tr th {\n",
              "        vertical-align: top;\n",
              "    }\n",
              "\n",
              "    .dataframe thead th {\n",
              "        text-align: right;\n",
              "    }\n",
              "</style>\n",
              "<table border=\"1\" class=\"dataframe\">\n",
              "  <thead>\n",
              "    <tr style=\"text-align: right;\">\n",
              "      <th></th>\n",
              "      <th>Variance</th>\n",
              "      <th>Skewness</th>\n",
              "      <th>Kurtosis</th>\n",
              "      <th>Entropy</th>\n",
              "      <th>Class</th>\n",
              "    </tr>\n",
              "  </thead>\n",
              "  <tbody>\n",
              "    <tr>\n",
              "      <th>count</th>\n",
              "      <td>1371.000000</td>\n",
              "      <td>1371.000000</td>\n",
              "      <td>1371.000000</td>\n",
              "      <td>1371.000000</td>\n",
              "      <td>1371.000000</td>\n",
              "    </tr>\n",
              "    <tr>\n",
              "      <th>mean</th>\n",
              "      <td>0.431410</td>\n",
              "      <td>1.917434</td>\n",
              "      <td>1.400694</td>\n",
              "      <td>-1.192200</td>\n",
              "      <td>0.444931</td>\n",
              "    </tr>\n",
              "    <tr>\n",
              "      <th>std</th>\n",
              "      <td>2.842494</td>\n",
              "      <td>5.868359</td>\n",
              "      <td>4.310105</td>\n",
              "      <td>2.101683</td>\n",
              "      <td>0.497139</td>\n",
              "    </tr>\n",
              "    <tr>\n",
              "      <th>min</th>\n",
              "      <td>-7.042100</td>\n",
              "      <td>-13.773100</td>\n",
              "      <td>-5.286100</td>\n",
              "      <td>-8.548200</td>\n",
              "      <td>0.000000</td>\n",
              "    </tr>\n",
              "    <tr>\n",
              "      <th>25%</th>\n",
              "      <td>-1.774700</td>\n",
              "      <td>-1.711300</td>\n",
              "      <td>-1.553350</td>\n",
              "      <td>-2.417000</td>\n",
              "      <td>0.000000</td>\n",
              "    </tr>\n",
              "    <tr>\n",
              "      <th>50%</th>\n",
              "      <td>0.495710</td>\n",
              "      <td>2.313400</td>\n",
              "      <td>0.616630</td>\n",
              "      <td>-0.586650</td>\n",
              "      <td>0.000000</td>\n",
              "    </tr>\n",
              "    <tr>\n",
              "      <th>75%</th>\n",
              "      <td>2.814650</td>\n",
              "      <td>6.813100</td>\n",
              "      <td>3.181600</td>\n",
              "      <td>0.394810</td>\n",
              "      <td>1.000000</td>\n",
              "    </tr>\n",
              "    <tr>\n",
              "      <th>max</th>\n",
              "      <td>6.824800</td>\n",
              "      <td>12.951600</td>\n",
              "      <td>17.927400</td>\n",
              "      <td>2.449500</td>\n",
              "      <td>1.000000</td>\n",
              "    </tr>\n",
              "  </tbody>\n",
              "</table>\n",
              "</div>\n",
              "      <button class=\"colab-df-convert\" onclick=\"convertToInteractive('df-1cd8f136-da78-4773-babe-96d05f123c94')\"\n",
              "              title=\"Convert this dataframe to an interactive table.\"\n",
              "              style=\"display:none;\">\n",
              "        \n",
              "  <svg xmlns=\"http://www.w3.org/2000/svg\" height=\"24px\"viewBox=\"0 0 24 24\"\n",
              "       width=\"24px\">\n",
              "    <path d=\"M0 0h24v24H0V0z\" fill=\"none\"/>\n",
              "    <path d=\"M18.56 5.44l.94 2.06.94-2.06 2.06-.94-2.06-.94-.94-2.06-.94 2.06-2.06.94zm-11 1L8.5 8.5l.94-2.06 2.06-.94-2.06-.94L8.5 2.5l-.94 2.06-2.06.94zm10 10l.94 2.06.94-2.06 2.06-.94-2.06-.94-.94-2.06-.94 2.06-2.06.94z\"/><path d=\"M17.41 7.96l-1.37-1.37c-.4-.4-.92-.59-1.43-.59-.52 0-1.04.2-1.43.59L10.3 9.45l-7.72 7.72c-.78.78-.78 2.05 0 2.83L4 21.41c.39.39.9.59 1.41.59.51 0 1.02-.2 1.41-.59l7.78-7.78 2.81-2.81c.8-.78.8-2.07 0-2.86zM5.41 20L4 18.59l7.72-7.72 1.47 1.35L5.41 20z\"/>\n",
              "  </svg>\n",
              "      </button>\n",
              "      \n",
              "  <style>\n",
              "    .colab-df-container {\n",
              "      display:flex;\n",
              "      flex-wrap:wrap;\n",
              "      gap: 12px;\n",
              "    }\n",
              "\n",
              "    .colab-df-convert {\n",
              "      background-color: #E8F0FE;\n",
              "      border: none;\n",
              "      border-radius: 50%;\n",
              "      cursor: pointer;\n",
              "      display: none;\n",
              "      fill: #1967D2;\n",
              "      height: 32px;\n",
              "      padding: 0 0 0 0;\n",
              "      width: 32px;\n",
              "    }\n",
              "\n",
              "    .colab-df-convert:hover {\n",
              "      background-color: #E2EBFA;\n",
              "      box-shadow: 0px 1px 2px rgba(60, 64, 67, 0.3), 0px 1px 3px 1px rgba(60, 64, 67, 0.15);\n",
              "      fill: #174EA6;\n",
              "    }\n",
              "\n",
              "    [theme=dark] .colab-df-convert {\n",
              "      background-color: #3B4455;\n",
              "      fill: #D2E3FC;\n",
              "    }\n",
              "\n",
              "    [theme=dark] .colab-df-convert:hover {\n",
              "      background-color: #434B5C;\n",
              "      box-shadow: 0px 1px 3px 1px rgba(0, 0, 0, 0.15);\n",
              "      filter: drop-shadow(0px 1px 2px rgba(0, 0, 0, 0.3));\n",
              "      fill: #FFFFFF;\n",
              "    }\n",
              "  </style>\n",
              "\n",
              "      <script>\n",
              "        const buttonEl =\n",
              "          document.querySelector('#df-1cd8f136-da78-4773-babe-96d05f123c94 button.colab-df-convert');\n",
              "        buttonEl.style.display =\n",
              "          google.colab.kernel.accessAllowed ? 'block' : 'none';\n",
              "\n",
              "        async function convertToInteractive(key) {\n",
              "          const element = document.querySelector('#df-1cd8f136-da78-4773-babe-96d05f123c94');\n",
              "          const dataTable =\n",
              "            await google.colab.kernel.invokeFunction('convertToInteractive',\n",
              "                                                     [key], {});\n",
              "          if (!dataTable) return;\n",
              "\n",
              "          const docLinkHtml = 'Like what you see? Visit the ' +\n",
              "            '<a target=\"_blank\" href=https://colab.research.google.com/notebooks/data_table.ipynb>data table notebook</a>'\n",
              "            + ' to learn more about interactive tables.';\n",
              "          element.innerHTML = '';\n",
              "          dataTable['output_type'] = 'display_data';\n",
              "          await google.colab.output.renderOutput(dataTable, element);\n",
              "          const docLink = document.createElement('div');\n",
              "          docLink.innerHTML = docLinkHtml;\n",
              "          element.appendChild(docLink);\n",
              "        }\n",
              "      </script>\n",
              "    </div>\n",
              "  </div>\n",
              "  "
            ]
          },
          "metadata": {},
          "execution_count": 82
        }
      ]
    },
    {
      "cell_type": "markdown",
      "source": [
        "**Checking for any missing value**"
      ],
      "metadata": {
        "id": "tdHp-Wig86uc"
      }
    },
    {
      "cell_type": "code",
      "source": [
        "df.isna().sum()"
      ],
      "metadata": {
        "colab": {
          "base_uri": "https://localhost:8080/"
        },
        "id": "s0eocHJbl06u",
        "outputId": "99abe936-2afa-4b6c-cac8-393a93726b80"
      },
      "execution_count": null,
      "outputs": [
        {
          "output_type": "execute_result",
          "data": {
            "text/plain": [
              "Variance    0\n",
              "Skewness    0\n",
              "Kurtosis    0\n",
              "Entropy     0\n",
              "Class       0\n",
              "dtype: int64"
            ]
          },
          "metadata": {},
          "execution_count": 83
        }
      ]
    },
    {
      "cell_type": "markdown",
      "source": [
        "**Chacking for any duplicate value**"
      ],
      "metadata": {
        "id": "YT1GnLQy9Fju"
      }
    },
    {
      "cell_type": "code",
      "source": [
        "df.duplicated()"
      ],
      "metadata": {
        "colab": {
          "base_uri": "https://localhost:8080/"
        },
        "id": "NryQpdISmRqP",
        "outputId": "65539756-732c-4870-a187-1e6c80093cc6"
      },
      "execution_count": null,
      "outputs": [
        {
          "output_type": "execute_result",
          "data": {
            "text/plain": [
              "0       False\n",
              "1       False\n",
              "2       False\n",
              "3       False\n",
              "4       False\n",
              "        ...  \n",
              "1366    False\n",
              "1367    False\n",
              "1368    False\n",
              "1369    False\n",
              "1370    False\n",
              "Length: 1371, dtype: bool"
            ]
          },
          "metadata": {},
          "execution_count": 84
        }
      ]
    },
    {
      "cell_type": "markdown",
      "source": [
        "**Cheking of how many outputs(classes) present in data**"
      ],
      "metadata": {
        "id": "C_a2aRkE9Ljv"
      }
    },
    {
      "cell_type": "code",
      "source": [
        "sns.countplot(x=df[\"Class\"])\n"
      ],
      "metadata": {
        "colab": {
          "base_uri": "https://localhost:8080/",
          "height": 296
        },
        "id": "U_z3IycxZhGN",
        "outputId": "e6e95657-8ff8-46fd-d315-590069cb678f"
      },
      "execution_count": null,
      "outputs": [
        {
          "output_type": "execute_result",
          "data": {
            "text/plain": [
              "<matplotlib.axes._subplots.AxesSubplot at 0x7f715692d7c0>"
            ]
          },
          "metadata": {},
          "execution_count": 85
        },
        {
          "output_type": "display_data",
          "data": {
            "text/plain": [
              "<Figure size 432x288 with 1 Axes>"
            ],
            "image/png": "[encoded data removed]"
          },
          "metadata": {
            "needs_background": "light"
          }
        }
      ]
    },
    {
      "cell_type": "markdown",
      "source": [
        "**Checking the correlation between the data**"
      ],
      "metadata": {
        "id": "-GVjJYZR9wzT"
      }
    },
    {
      "cell_type": "code",
      "source": [
        "df_corr=df[['Variance','Skewness','Kurtosis','Entropy','Class']].corr()"
      ],
      "metadata": {
        "id": "KX1kr5Ltm_XQ"
      },
      "execution_count": null,
      "outputs": []
    },
    {
      "cell_type": "code",
      "source": [
        "df_corr"
      ],
      "metadata": {
        "colab": {
          "base_uri": "https://localhost:8080/",
          "height": 206
        },
        "id": "VqjlKS-8oJqr",
        "outputId": "74865c58-a092-40cb-9175-01b432d8dbce"
      },
      "execution_count": null,
      "outputs": [
        {
          "output_type": "execute_result",
          "data": {
            "text/plain": [
              "          Variance  Skewness  Kurtosis   Entropy     Class\n",
              "Variance  1.000000  0.263333 -0.380358  0.276666 -0.724655\n",
              "Skewness  0.263333  1.000000 -0.786729 -0.526896 -0.444281\n",
              "Kurtosis -0.380358 -0.786729  1.000000  0.319219  0.155346\n",
              "Entropy   0.276666 -0.526896  0.319219  1.000000 -0.023200\n",
              "Class    -0.724655 -0.444281  0.155346 -0.023200  1.000000"
            ],
            "text/html": [
              "\n",
              "  <div id=\"df-eafd0a78-4272-4776-a299-c85fb7903a37\">\n",
              "    <div class=\"colab-df-container\">\n",
              "      <div>\n",
              "<style scoped>\n",
              "    .dataframe tbody tr th:only-of-type {\n",
              "        vertical-align: middle;\n",
              "    }\n",
              "\n",
              "    .dataframe tbody tr th {\n",
              "        vertical-align: top;\n",
              "    }\n",
              "\n",
              "    .dataframe thead th {\n",
              "        text-align: right;\n",
              "    }\n",
              "</style>\n",
              "<table border=\"1\" class=\"dataframe\">\n",
              "  <thead>\n",
              "    <tr style=\"text-align: right;\">\n",
              "      <th></th>\n",
              "      <th>Variance</th>\n",
              "      <th>Skewness</th>\n",
              "      <th>Kurtosis</th>\n",
              "      <th>Entropy</th>\n",
              "      <th>Class</th>\n",
              "    </tr>\n",
              "  </thead>\n",
              "  <tbody>\n",
              "    <tr>\n",
              "      <th>Variance</th>\n",
              "      <td>1.000000</td>\n",
              "      <td>0.263333</td>\n",
              "      <td>-0.380358</td>\n",
              "      <td>0.276666</td>\n",
              "      <td>-0.724655</td>\n",
              "    </tr>\n",
              "    <tr>\n",
              "      <th>Skewness</th>\n",
              "      <td>0.263333</td>\n",
              "      <td>1.000000</td>\n",
              "      <td>-0.786729</td>\n",
              "      <td>-0.526896</td>\n",
              "      <td>-0.444281</td>\n",
              "    </tr>\n",
              "    <tr>\n",
              "      <th>Kurtosis</th>\n",
              "      <td>-0.380358</td>\n",
              "      <td>-0.786729</td>\n",
              "      <td>1.000000</td>\n",
              "      <td>0.319219</td>\n",
              "      <td>0.155346</td>\n",
              "    </tr>\n",
              "    <tr>\n",
              "      <th>Entropy</th>\n",
              "      <td>0.276666</td>\n",
              "      <td>-0.526896</td>\n",
              "      <td>0.319219</td>\n",
              "      <td>1.000000</td>\n",
              "      <td>-0.023200</td>\n",
              "    </tr>\n",
              "    <tr>\n",
              "      <th>Class</th>\n",
              "      <td>-0.724655</td>\n",
              "      <td>-0.444281</td>\n",
              "      <td>0.155346</td>\n",
              "      <td>-0.023200</td>\n",
              "      <td>1.000000</td>\n",
              "    </tr>\n",
              "  </tbody>\n",
              "</table>\n",
              "</div>\n",
              "      <button class=\"colab-df-convert\" onclick=\"convertToInteractive('df-eafd0a78-4272-4776-a299-c85fb7903a37')\"\n",
              "              title=\"Convert this dataframe to an interactive table.\"\n",
              "              style=\"display:none;\">\n",
              "        \n",
              "  <svg xmlns=\"http://www.w3.org/2000/svg\" height=\"24px\"viewBox=\"0 0 24 24\"\n",
              "       width=\"24px\">\n",
              "    <path d=\"M0 0h24v24H0V0z\" fill=\"none\"/>\n",
              "    <path d=\"M18.56 5.44l.94 2.06.94-2.06 2.06-.94-2.06-.94-.94-2.06-.94 2.06-2.06.94zm-11 1L8.5 8.5l.94-2.06 2.06-.94-2.06-.94L8.5 2.5l-.94 2.06-2.06.94zm10 10l.94 2.06.94-2.06 2.06-.94-2.06-.94-.94-2.06-.94 2.06-2.06.94z\"/><path d=\"M17.41 7.96l-1.37-1.37c-.4-.4-.92-.59-1.43-.59-.52 0-1.04.2-1.43.59L10.3 9.45l-7.72 7.72c-.78.78-.78 2.05 0 2.83L4 21.41c.39.39.9.59 1.41.59.51 0 1.02-.2 1.41-.59l7.78-7.78 2.81-2.81c.8-.78.8-2.07 0-2.86zM5.41 20L4 18.59l7.72-7.72 1.47 1.35L5.41 20z\"/>\n",
              "  </svg>\n",
              "      </button>\n",
              "      \n",
              "  <style>\n",
              "    .colab-df-container {\n",
              "      display:flex;\n",
              "      flex-wrap:wrap;\n",
              "      gap: 12px;\n",
              "    }\n",
              "\n",
              "    .colab-df-convert {\n",
              "      background-color: #E8F0FE;\n",
              "      border: none;\n",
              "      border-radius: 50%;\n",
              "      cursor: pointer;\n",
              "      display: none;\n",
              "      fill: #1967D2;\n",
              "      height: 32px;\n",
              "      padding: 0 0 0 0;\n",
              "      width: 32px;\n",
              "    }\n",
              "\n",
              "    .colab-df-convert:hover {\n",
              "      background-color: #E2EBFA;\n",
              "      box-shadow: 0px 1px 2px rgba(60, 64, 67, 0.3), 0px 1px 3px 1px rgba(60, 64, 67, 0.15);\n",
              "      fill: #174EA6;\n",
              "    }\n",
              "\n",
              "    [theme=dark] .colab-df-convert {\n",
              "      background-color: #3B4455;\n",
              "      fill: #D2E3FC;\n",
              "    }\n",
              "\n",
              "    [theme=dark] .colab-df-convert:hover {\n",
              "      background-color: #434B5C;\n",
              "      box-shadow: 0px 1px 3px 1px rgba(0, 0, 0, 0.15);\n",
              "      filter: drop-shadow(0px 1px 2px rgba(0, 0, 0, 0.3));\n",
              "      fill: #FFFFFF;\n",
              "    }\n",
              "  </style>\n",
              "\n",
              "      <script>\n",
              "        const buttonEl =\n",
              "          document.querySelector('#df-eafd0a78-4272-4776-a299-c85fb7903a37 button.colab-df-convert');\n",
              "        buttonEl.style.display =\n",
              "          google.colab.kernel.accessAllowed ? 'block' : 'none';\n",
              "\n",
              "        async function convertToInteractive(key) {\n",
              "          const element = document.querySelector('#df-eafd0a78-4272-4776-a299-c85fb7903a37');\n",
              "          const dataTable =\n",
              "            await google.colab.kernel.invokeFunction('convertToInteractive',\n",
              "                                                     [key], {});\n",
              "          if (!dataTable) return;\n",
              "\n",
              "          const docLinkHtml = 'Like what you see? Visit the ' +\n",
              "            '<a target=\"_blank\" href=https://colab.research.google.com/notebooks/data_table.ipynb>data table notebook</a>'\n",
              "            + ' to learn more about interactive tables.';\n",
              "          element.innerHTML = '';\n",
              "          dataTable['output_type'] = 'display_data';\n",
              "          await google.colab.output.renderOutput(dataTable, element);\n",
              "          const docLink = document.createElement('div');\n",
              "          docLink.innerHTML = docLinkHtml;\n",
              "          element.appendChild(docLink);\n",
              "        }\n",
              "      </script>\n",
              "    </div>\n",
              "  </div>\n",
              "  "
            ]
          },
          "metadata": {},
          "execution_count": 87
        }
      ]
    },
    {
      "cell_type": "markdown",
      "source": [
        "**Plotting the correlation graph for better visualisation **"
      ],
      "metadata": {
        "id": "2vPV4a-1-C7c"
      }
    },
    {
      "cell_type": "code",
      "source": [
        "sns.heatmap(df_corr,annot=True)"
      ],
      "metadata": {
        "colab": {
          "base_uri": "https://localhost:8080/",
          "height": 286
        },
        "id": "ya0lK2d6oVaI",
        "outputId": "44476db2-2b62-4901-b90b-3a7cf0c8383e"
      },
      "execution_count": null,
      "outputs": [
        {
          "output_type": "execute_result",
          "data": {
            "text/plain": [
              "<matplotlib.axes._subplots.AxesSubplot at 0x7f715419dc10>"
            ]
          },
          "metadata": {},
          "execution_count": 88
        },
        {
          "output_type": "display_data",
          "data": {
            "text/plain": [
              "<Figure size 432x288 with 2 Axes>"
            ],
            "image/png": "[encoded data removed]"
          },
          "metadata": {
            "needs_background": "light"
          }
        }
      ]
    },
    {
      "cell_type": "markdown",
      "source": [
        "**Plotting histogram to know the distribustion of data**"
      ],
      "metadata": {
        "id": "Au_aGbib-blh"
      }
    },
    {
      "cell_type": "code",
      "source": [
        "df.hist(column='Variance');"
      ],
      "metadata": {
        "colab": {
          "base_uri": "https://localhost:8080/",
          "height": 281
        },
        "id": "cz4ZduOWpFRu",
        "outputId": "56db58bd-0190-46d5-b9da-1e7c181adab7"
      },
      "execution_count": null,
      "outputs": [
        {
          "output_type": "display_data",
          "data": {
            "text/plain": [
              "<Figure size 432x288 with 1 Axes>"
            ],
            "image/png": "[encoded data removed]"
          },
          "metadata": {
            "needs_background": "light"
          }
        }
      ]
    },
    {
      "cell_type": "code",
      "source": [
        "df.hist(column='Skewness');"
      ],
      "metadata": {
        "colab": {
          "base_uri": "https://localhost:8080/",
          "height": 281
        },
        "id": "E1Y8ksuGoc6q",
        "outputId": "3dc2b52e-d639-4d49-c7e9-a8c8f29b1ac4"
      },
      "execution_count": null,
      "outputs": [
        {
          "output_type": "display_data",
          "data": {
            "text/plain": [
              "<Figure size 432x288 with 1 Axes>"
            ],
            "image/png": "[encoded data removed]"
          },
          "metadata": {
            "needs_background": "light"
          }
        }
      ]
    },
    {
      "cell_type": "code",
      "source": [
        "df.hist(column='Kurtosis');"
      ],
      "metadata": {
        "colab": {
          "base_uri": "https://localhost:8080/",
          "height": 281
        },
        "id": "7j5f-IECpZMH",
        "outputId": "89332a63-30c8-483b-8a09-1aa7509b0a58"
      },
      "execution_count": null,
      "outputs": [
        {
          "output_type": "display_data",
          "data": {
            "text/plain": [
              "<Figure size 432x288 with 1 Axes>"
            ],
            "image/png": "[encoded data removed]"
          },
          "metadata": {
            "needs_background": "light"
          }
        }
      ]
    },
    {
      "cell_type": "code",
      "source": [
        "df.hist(column='Entropy');"
      ],
      "metadata": {
        "colab": {
          "base_uri": "https://localhost:8080/",
          "height": 281
        },
        "id": "6MrPqr16pji3",
        "outputId": "6bf619c0-11d0-47c3-9334-0349b7c65b0c"
      },
      "execution_count": null,
      "outputs": [
        {
          "output_type": "display_data",
          "data": {
            "text/plain": [
              "<Figure size 432x288 with 1 Axes>"
            ],
            "image/png": "[encoded data removed]"
          },
          "metadata": {
            "needs_background": "light"
          }
        }
      ]
    },
    {
      "cell_type": "code",
      "source": [
        "df.hist(column='Class');"
      ],
      "metadata": {
        "colab": {
          "base_uri": "https://localhost:8080/",
          "height": 281
        },
        "id": "7ZdxbOBmpuiq",
        "outputId": "c4f9d284-71cb-49d5-b31e-4cf05bd1c6c9"
      },
      "execution_count": null,
      "outputs": [
        {
          "output_type": "display_data",
          "data": {
            "text/plain": [
              "<Figure size 432x288 with 1 Axes>"
            ],
            "image/png": "[encoded data removed]"
          },
          "metadata": {
            "needs_background": "light"
          }
        }
      ]
    },
    {
      "cell_type": "markdown",
      "source": [
        "**Checking the outliner in the dataset**"
      ],
      "metadata": {
        "id": "Dg-9YiYR-ugA"
      }
    },
    {
      "cell_type": "code",
      "source": [
        "# Check for outliers\n",
        "ax = df.boxplot(figsize=(10,5))\n",
        "ax.set_xlabel('Features')\n",
        "ax.set_ylabel('Values')\n",
        "ax.set_title('Outliers detection')\n",
        "plt.show()"
      ],
      "metadata": {
        "colab": {
          "base_uri": "https://localhost:8080/",
          "height": 350
        },
        "id": "OlmrdqMbZiU-",
        "outputId": "515cad74-0897-44c2-ddda-8cc3b2b2b692"
      },
      "execution_count": null,
      "outputs": [
        {
          "output_type": "display_data",
          "data": {
            "text/plain": [
              "<Figure size 720x360 with 1 Axes>"
            ],
            "image/png": "[encoded data removed]"
          },
          "metadata": {
            "needs_background": "light"
          }
        }
      ]
    },
    {
      "cell_type": "markdown",
      "source": [
        "**Convert outliner values in nan value**"
      ],
      "metadata": {
        "id": "yo7TSi8b_Eom"
      }
    },
    {
      "cell_type": "code",
      "source": [
        "for x in ['Entropy']:\n",
        "    q70,q30= np.percentile(df.loc[:,x],[70,30])\n",
        "    intr_qr = q70-q30\n",
        " \n",
        "    max = q70+(1.5*intr_qr)\n",
        "    min = q30-(1.5*intr_qr)\n",
        " \n",
        "    df.loc[df[x] < min,x] = np.nan\n",
        "    df.loc[df[x] > max,x] = np.nan"
      ],
      "metadata": {
        "id": "E8qPtGXD0FR1"
      },
      "execution_count": null,
      "outputs": []
    },
    {
      "cell_type": "code",
      "source": [
        "for x in ['Kurtosis']:\n",
        "    q70,q30= np.percentile(df.loc[:,x],[70,30])\n",
        "    intr_qr = q70-q30\n",
        " \n",
        "    max = q70+(1.5*intr_qr)\n",
        "    min = q30-(1.5*intr_qr)\n",
        " \n",
        "    df.loc[df[x] < min,x] = np.nan\n",
        "    df.loc[df[x] > max,x] = np.nan"
      ],
      "metadata": {
        "id": "HWFp0KBn-9Xe"
      },
      "execution_count": null,
      "outputs": []
    },
    {
      "cell_type": "markdown",
      "source": [
        "**Count outliners(nan)**"
      ],
      "metadata": {
        "id": "7JsqKO36_PKx"
      }
    },
    {
      "cell_type": "code",
      "source": [
        "df.isnull().sum()"
      ],
      "metadata": {
        "colab": {
          "base_uri": "https://localhost:8080/"
        },
        "id": "PwYyJkTB7eqO",
        "outputId": "d2edd9d6-ffed-41c4-d1b4-e8d70a417388"
      },
      "execution_count": null,
      "outputs": [
        {
          "output_type": "execute_result",
          "data": {
            "text/plain": [
              "Variance      0\n",
              "Skewness      0\n",
              "Kurtosis    138\n",
              "Entropy      95\n",
              "Class         0\n",
              "dtype: int64"
            ]
          },
          "metadata": {},
          "execution_count": 102
        }
      ]
    },
    {
      "cell_type": "markdown",
      "source": [
        "**Drop the outliners(nan)values**"
      ],
      "metadata": {
        "id": "d3L2gyBd_YoF"
      }
    },
    {
      "cell_type": "code",
      "source": [
        "df = df.dropna(axis = 0)"
      ],
      "metadata": {
        "id": "1YB_TvSG7vMk"
      },
      "execution_count": null,
      "outputs": []
    },
    {
      "cell_type": "markdown",
      "source": [
        "**Recheck the outliners if any present**"
      ],
      "metadata": {
        "id": "oIDe-HwI_oYK"
      }
    },
    {
      "cell_type": "code",
      "source": [
        "df.isnull().sum()"
      ],
      "metadata": {
        "colab": {
          "base_uri": "https://localhost:8080/"
        },
        "id": "bKEXfsHO8Jil",
        "outputId": "aaa8c25b-7153-45b2-dab3-db971bc54252"
      },
      "execution_count": null,
      "outputs": [
        {
          "output_type": "execute_result",
          "data": {
            "text/plain": [
              "Variance    0\n",
              "Skewness    0\n",
              "Kurtosis    0\n",
              "Entropy     0\n",
              "Class       0\n",
              "dtype: int64"
            ]
          },
          "metadata": {},
          "execution_count": 104
        }
      ]
    },
    {
      "cell_type": "code",
      "source": [
        "# Check for outliers\n",
        "ax = df.boxplot(figsize=(10,5))\n",
        "ax.set_xlabel('Features')\n",
        "ax.set_ylabel('Values')\n",
        "ax.set_title('Outliers detection')\n",
        "plt.show()"
      ],
      "metadata": {
        "colab": {
          "base_uri": "https://localhost:8080/",
          "height": 350
        },
        "id": "iQh8ltK_8QEy",
        "outputId": "3640be7a-d01d-4837-d88d-3a7496187c2a"
      },
      "execution_count": null,
      "outputs": [
        {
          "output_type": "display_data",
          "data": {
            "text/plain": [
              "<Figure size 720x360 with 1 Axes>"
            ],
            "image/png": "[encoded data removed]"
          },
          "metadata": {
            "needs_background": "light"
          }
        }
      ]
    },
    {
      "cell_type": "markdown",
      "source": [
        "**Cheking the shap of dataset to know how many values present in data after dropping Outliners**"
      ],
      "metadata": {
        "id": "fMEP0_Rt_0qz"
      }
    },
    {
      "cell_type": "code",
      "source": [
        "df.shape"
      ],
      "metadata": {
        "colab": {
          "base_uri": "https://localhost:8080/"
        },
        "id": "StMijmSV8dLw",
        "outputId": "e2f6b413-1340-4cd8-b9ca-c34bbca00ed5"
      },
      "execution_count": null,
      "outputs": [
        {
          "output_type": "execute_result",
          "data": {
            "text/plain": [
              "(1138, 5)"
            ]
          },
          "metadata": {},
          "execution_count": 106
        }
      ]
    },
    {
      "cell_type": "markdown",
      "source": [
        "**Split the data into training testing and validation and load data in models to know the accuracy**"
      ],
      "metadata": {
        "id": "Ra7zsxxNAIfI"
      }
    },
    {
      "cell_type": "code",
      "source": [
        "\n",
        "\n",
        "\n",
        "#Standardizing the data\n",
        "arr=df.values\n",
        "#separate the Input and Output\n",
        "x=arr[:,0:4]\n",
        "y=arr[:,4]\n",
        "scaler=StandardScaler().fit(x)\n",
        "rescale_x=scaler.fit_transform(x)\n",
        "set_printoptions(precision=3)\n",
        "#print(rescale_x[0:5,:])\n",
        "\n",
        "#split dataset\n",
        "x=arr[:,0:4]\n",
        "y=arr[:,4]\n",
        "validation_siz=0.20\n",
        "\n",
        "seed=55\n",
        "x_train , x_validation , y_train , y_validation = train_test_split(x, y, test_size=validation_siz, random_state=seed)\n",
        "#print (y)\n",
        "\n",
        "#check models\n",
        "models=[]\n",
        "models.append(('LR', LogisticRegression()))\n",
        "models.append(('KNN',KNeighborsClassifier()))\n",
        "models.append(('DTC',DecisionTreeClassifier()))\n",
        "models.append(('SVM',SVC()))\n",
        "models.append(('RF',RandomForestClassifier()))\n",
        "#Evaluate models\n",
        "result=[]\n",
        "names=[]\n",
        "for names, model in models:\n",
        "    kFold=KFold(n_splits=10,shuffle=True, random_state=seed)\n",
        "    CvResults=cross_val_score(model,x_train,y_train,cv=kFold,scoring='accuracy')\n",
        "    result.append(CvResults)\n",
        "    \n",
        "    ms=\"%s=%f (%f)\"%(names,CvResults.mean(),CvResults.std())\n",
        "    print(ms)\n",
        "\n"
      ],
      "metadata": {
        "colab": {
          "base_uri": "https://localhost:8080/"
        },
        "id": "7HXVA9bh8mOS",
        "outputId": "f5cdecf1-d75f-4e74-df57-4920d077102a"
      },
      "execution_count": null,
      "outputs": [
        {
          "output_type": "stream",
          "name": "stdout",
          "text": [
            "LR=0.997802 (0.004396)\n",
            "KNN=1.000000 (0.000000)\n",
            "DTC=0.981319 (0.011044)\n",
            "SVM=1.000000 (0.000000)\n",
            "RF=0.994505 (0.007372)\n"
          ]
        }
      ]
    },
    {
      "cell_type": "markdown",
      "source": [
        "\n",
        "### **COMPARE** **MODELS**\n",
        "---\n",
        "\n"
      ],
      "metadata": {
        "id": "z1CVbp4jZqWO"
      }
    },
    {
      "cell_type": "code",
      "source": [
        "#compare model\n",
        "\n",
        "#LogisticRegression\n",
        "#Confusion matrix\n",
        "LR=LogisticRegression ()\n",
        "LR.fit(x_train,y_train)\n",
        "pred=LR.predict(x_validation)\n",
        "print(accuracy_score(y_validation,pred))\n",
        "print(confusion_matrix(y_validation,pred))\n",
        "print(classification_report(y_validation,pred))\n",
        "\n",
        "#finalize model\n",
        "arr=df.values\n",
        "x=arr[:,0:4]\n",
        "y=arr[:,4]\n",
        "x_train , x_validation , y_train , y_validation = train_test_split(x, y, test_size=0.20, random_state=5)\n",
        "#fit model on 20%\n",
        "model=LogisticRegression()\n",
        "model.fit(x_train,y_train)\n",
        "\n",
        "#save\n",
        "filename= 'best_fit.sav'\n",
        "dump(model,open(filename,'wb'))\n",
        "\n",
        "#load model\n",
        "loaded_model=load(open(filename,'rb'))\n",
        "result=loaded_model.score(x,y)\n",
        "print('Accuracy',result*100)"
      ],
      "metadata": {
        "colab": {
          "base_uri": "https://localhost:8080/"
        },
        "id": "uq7mNQq8az2B",
        "outputId": "3b381e4d-38d1-4840-c329-677e0029aa81"
      },
      "execution_count": null,
      "outputs": [
        {
          "output_type": "stream",
          "name": "stdout",
          "text": [
            "1.0\n",
            "[[143   0]\n",
            " [  0  85]]\n",
            "              precision    recall  f1-score   support\n",
            "\n",
            "         0.0       1.00      1.00      1.00       143\n",
            "         1.0       1.00      1.00      1.00        85\n",
            "\n",
            "    accuracy                           1.00       228\n",
            "   macro avg       1.00      1.00      1.00       228\n",
            "weighted avg       1.00      1.00      1.00       228\n",
            "\n",
            "Accuracy 100.0\n"
          ]
        }
      ]
    },
    {
      "cell_type": "code",
      "source": [
        "#compare model\n",
        "\n",
        "#RandomForestClassifier\n",
        "#Confusion matrix\n",
        "Rf=RandomForestClassifier ()\n",
        "Rf.fit(x_train,y_train)\n",
        "pred=Rf.predict(x_validation)\n",
        "print(accuracy_score(y_validation,pred))\n",
        "print(confusion_matrix(y_validation,pred))\n",
        "print(classification_report(y_validation,pred))\n",
        "\n",
        "#finalize model\n",
        "arr=df.values\n",
        "x=arr[:,0:4]\n",
        "y=arr[:,4]\n",
        "x_train , x_validation , y_train , y_validation = train_test_split(x, y, test_size=0.20, random_state=5)\n",
        "#fit model on 30%\n",
        "model=RandomForestClassifier()\n",
        "model.fit(x_train,y_train)\n",
        "\n",
        "#save\n",
        "filename= 'best_fit.sav'\n",
        "dump(model,open(filename,'wb'))\n",
        "\n",
        "#load model\n",
        "loaded_model=load(open(filename,'rb'))\n",
        "result=loaded_model.score(x,y)\n",
        "print('Accuracy',result*100)"
      ],
      "metadata": {
        "colab": {
          "base_uri": "https://localhost:8080/"
        },
        "id": "iFUGppRqZYFm",
        "outputId": "c4751fe0-60cb-4793-b382-36499bf92bda"
      },
      "execution_count": null,
      "outputs": [
        {
          "output_type": "stream",
          "name": "stdout",
          "text": [
            "0.9912280701754386\n",
            "[[136   2]\n",
            " [  0  90]]\n",
            "              precision    recall  f1-score   support\n",
            "\n",
            "         0.0       1.00      0.99      0.99       138\n",
            "         1.0       0.98      1.00      0.99        90\n",
            "\n",
            "    accuracy                           0.99       228\n",
            "   macro avg       0.99      0.99      0.99       228\n",
            "weighted avg       0.99      0.99      0.99       228\n",
            "\n",
            "Accuracy 99.82425307557118\n"
          ]
        }
      ]
    },
    {
      "cell_type": "code",
      "source": [
        "#Support Vector Machine\n",
        "#Confusion matrix\n",
        "SVM=SVC ()\n",
        "SVM.fit(x_train,y_train)\n",
        "pred=SVM.predict(x_validation)\n",
        "print(accuracy_score(y_validation,pred))\n",
        "print(confusion_matrix(y_validation,pred))\n",
        "print(classification_report(y_validation,pred))\n",
        "\n",
        "#finalize model\n",
        "arr=df.values\n",
        "x=arr[:,0:4]\n",
        "y=arr[:,4]\n",
        "x_train , x_validation , y_train , y_validation = train_test_split(x, y, test_size=0.20, random_state=5)\n",
        "#fit model on 30%\n",
        "model=SVC()\n",
        "model.fit(x_train,y_train)\n",
        "\n",
        "#save\n",
        "filename= 'best_fit.sav'\n",
        "dump(model,open(filename,'wb'))\n",
        "\n",
        "#load model\n",
        "loaded_model=load(open(filename,'rb'))\n",
        "result=loaded_model.score(x,y)\n",
        "print('Accuracy',result*100)"
      ],
      "metadata": {
        "colab": {
          "base_uri": "https://localhost:8080/"
        },
        "id": "0w1nmNrpUIEL",
        "outputId": "87d87ffe-75be-4411-f5ce-70e2e8653a11"
      },
      "execution_count": null,
      "outputs": [
        {
          "output_type": "stream",
          "name": "stdout",
          "text": [
            "1.0\n",
            "[[138   0]\n",
            " [  0  90]]\n",
            "              precision    recall  f1-score   support\n",
            "\n",
            "         0.0       1.00      1.00      1.00       138\n",
            "         1.0       1.00      1.00      1.00        90\n",
            "\n",
            "    accuracy                           1.00       228\n",
            "   macro avg       1.00      1.00      1.00       228\n",
            "weighted avg       1.00      1.00      1.00       228\n",
            "\n",
            "Accuracy 100.0\n"
          ]
        }
      ]
    },
    {
      "cell_type": "code",
      "source": [
        "#KNeighborsClassifier\n",
        "#Confusion matrix\n",
        "KNN=KNeighborsClassifier ()\n",
        "KNN.fit(x_train,y_train)\n",
        "pred=KNN.predict(x_validation)\n",
        "print(accuracy_score(y_validation,pred))\n",
        "print(confusion_matrix(y_validation,pred))\n",
        "print(classification_report(y_validation,pred))\n",
        "\n",
        "#finalize model\n",
        "arr=df.values\n",
        "x=arr[:,0:4]\n",
        "y=arr[:,4]\n",
        "x_train , x_validation , y_train , y_validation = train_test_split(x, y, test_size=0.20, random_state=5)\n",
        "#fit model on 20%\n",
        "model=KNeighborsClassifier()\n",
        "model.fit(x_train,y_train)\n",
        "\n",
        "#save\n",
        "filename= 'best_fit.sav'\n",
        "dump(model,open(filename,'wb'))\n",
        "\n",
        "#load model\n",
        "loaded_model=load(open(filename,'rb'))\n",
        "result=loaded_model.score(x,y)\n",
        "print('Accuracy',result*100)"
      ],
      "metadata": {
        "colab": {
          "base_uri": "https://localhost:8080/"
        },
        "id": "nkAFoBM_Ug4w",
        "outputId": "9e430588-3fea-4db2-a55a-ccaaf9b79273"
      },
      "execution_count": null,
      "outputs": [
        {
          "output_type": "stream",
          "name": "stdout",
          "text": [
            "1.0\n",
            "[[138   0]\n",
            " [  0  90]]\n",
            "              precision    recall  f1-score   support\n",
            "\n",
            "         0.0       1.00      1.00      1.00       138\n",
            "         1.0       1.00      1.00      1.00        90\n",
            "\n",
            "    accuracy                           1.00       228\n",
            "   macro avg       1.00      1.00      1.00       228\n",
            "weighted avg       1.00      1.00      1.00       228\n",
            "\n",
            "Accuracy 100.0\n"
          ]
        }
      ]
    },
    {
      "cell_type": "code",
      "source": [
        "#DecisionTreeClassifier\n",
        "#Confusion matrix\n",
        "DTC=DecisionTreeClassifier ()\n",
        "DTC.fit(x_train,y_train)\n",
        "pred=DTC.predict(x_validation)\n",
        "print(accuracy_score(y_validation,pred))\n",
        "print(confusion_matrix(y_validation,pred))\n",
        "print(classification_report(y_validation,pred))\n",
        "\n",
        "#finalize model\n",
        "arr=df.values\n",
        "x=arr[:,0:4]\n",
        "y=arr[:,4]\n",
        "x_train , x_validation , y_train , y_validation = train_test_split(x, y, test_size=0.20, random_state=5)\n",
        "#fit model on 20%\n",
        "model=DecisionTreeClassifier()\n",
        "model.fit(x_train,y_train)\n",
        "\n",
        "#save\n",
        "filename= 'best_fit.sav'\n",
        "dump(model,open(filename,'wb'))\n",
        "\n",
        "#load model\n",
        "loaded_model=load(open(filename,'rb'))\n",
        "result=loaded_model.score(x,y)\n",
        "print('Accuracy',result*100)"
      ],
      "metadata": {
        "colab": {
          "base_uri": "https://localhost:8080/"
        },
        "id": "AqeKjm6sVX70",
        "outputId": "b27fc232-eca9-4877-cefe-a13abfe860cc"
      },
      "execution_count": null,
      "outputs": [
        {
          "output_type": "stream",
          "name": "stdout",
          "text": [
            "0.9692982456140351\n",
            "[[135   3]\n",
            " [  4  86]]\n",
            "              precision    recall  f1-score   support\n",
            "\n",
            "         0.0       0.97      0.98      0.97       138\n",
            "         1.0       0.97      0.96      0.96        90\n",
            "\n",
            "    accuracy                           0.97       228\n",
            "   macro avg       0.97      0.97      0.97       228\n",
            "weighted avg       0.97      0.97      0.97       228\n",
            "\n",
            "Accuracy 99.38488576449912\n"
          ]
        }
      ]
    }
  ]
}